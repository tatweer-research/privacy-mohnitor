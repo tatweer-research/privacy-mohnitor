{
 "cells": [
  {
   "cell_type": "code",
   "execution_count": 2,
   "id": "4db18229",
   "metadata": {
    "scrolled": true
   },
   "outputs": [
    {
     "name": "stdout",
     "output_type": "stream",
     "text": [
      "Collecting pandas\n",
      "  Downloading pandas-2.0.2-cp38-cp38-win_amd64.whl (10.8 MB)\n",
      "Requirement already satisfied: python-dateutil>=2.8.2 in c:\\users\\mohammad.al-zoubi\\anaconda3\\envs\\commonroad\\lib\\site-packages (from pandas) (2.8.2)\n",
      "Collecting numpy>=1.20.3\n",
      "  Downloading numpy-1.24.3-cp38-cp38-win_amd64.whl (14.9 MB)\n",
      "Requirement already satisfied: pytz>=2020.1 in c:\\users\\mohammad.al-zoubi\\anaconda3\\envs\\commonroad\\lib\\site-packages (from pandas) (2021.3)\n",
      "Collecting tzdata>=2022.1\n",
      "  Using cached tzdata-2023.3-py2.py3-none-any.whl (341 kB)\n",
      "Requirement already satisfied: six>=1.5 in c:\\users\\mohammad.al-zoubi\\anaconda3\\envs\\commonroad\\lib\\site-packages (from python-dateutil>=2.8.2->pandas) (1.16.0)\n",
      "Installing collected packages: tzdata, numpy, pandas\n",
      "  Attempting uninstall: numpy\n",
      "    Found existing installation: numpy 1.19.5\n",
      "    Uninstalling numpy-1.19.5:\n",
      "      Successfully uninstalled numpy-1.19.5\n",
      "Successfully installed numpy-1.24.3 pandas-2.0.2 tzdata-2023.3\n"
     ]
    },
    {
     "name": "stderr",
     "output_type": "stream",
     "text": [
      "ERROR: pip's dependency resolver does not currently take into account all the packages that are installed. This behaviour is the source of the following dependency conflicts.\n",
      "scipy 1.7.3 requires numpy<1.23.0,>=1.16.5, but you have numpy 1.24.3 which is incompatible.\n"
     ]
    }
   ],
   "source": [
    "!pip install pandas"
   ]
  },
  {
   "cell_type": "code",
   "execution_count": 8,
   "id": "c61dec55",
   "metadata": {},
   "outputs": [
    {
     "data": {
      "text/html": [
       "<div>\n",
       "<style scoped>\n",
       "    .dataframe tbody tr th:only-of-type {\n",
       "        vertical-align: middle;\n",
       "    }\n",
       "\n",
       "    .dataframe tbody tr th {\n",
       "        vertical-align: top;\n",
       "    }\n",
       "\n",
       "    .dataframe thead th {\n",
       "        text-align: right;\n",
       "    }\n",
       "</style>\n",
       "<table border=\"1\" class=\"dataframe\">\n",
       "  <thead>\n",
       "    <tr style=\"text-align: right;\">\n",
       "      <th></th>\n",
       "      <th>Unnamed: 0</th>\n",
       "      <th>policy_text</th>\n",
       "      <th>is_policy</th>\n",
       "      <th>link_text</th>\n",
       "      <th>exact_match</th>\n",
       "      <th>matching_pattern</th>\n",
       "    </tr>\n",
       "  </thead>\n",
       "  <tbody>\n",
       "    <tr>\n",
       "      <th>0</th>\n",
       "      <td>0</td>\n",
       "      <td>### Personal Information\\n\\nForbidden Planet L...</td>\n",
       "      <td>True</td>\n",
       "      <td>privacy &amp; cookies</td>\n",
       "      <td>0</td>\n",
       "      <td>cookie</td>\n",
       "    </tr>\n",
       "    <tr>\n",
       "      <th>1</th>\n",
       "      <td>1</td>\n",
       "      <td>At Ericsson, we understand that privacy is an ...</td>\n",
       "      <td>True</td>\n",
       "      <td>privacy (cookies)</td>\n",
       "      <td>0</td>\n",
       "      <td>cookie</td>\n",
       "    </tr>\n",
       "    <tr>\n",
       "      <th>2</th>\n",
       "      <td>2</td>\n",
       "      <td>## Privacy policy\\n\\nNERC's website does not s...</td>\n",
       "      <td>True</td>\n",
       "      <td>privacy &amp; cookies</td>\n",
       "      <td>0</td>\n",
       "      <td>cookie</td>\n",
       "    </tr>\n",
       "    <tr>\n",
       "      <th>3</th>\n",
       "      <td>3</td>\n",
       "      <td>This privacy and cookies policy only applies t...</td>\n",
       "      <td>True</td>\n",
       "      <td>privacy and cookies</td>\n",
       "      <td>0</td>\n",
       "      <td>cookie</td>\n",
       "    </tr>\n",
       "    <tr>\n",
       "      <th>4</th>\n",
       "      <td>4</td>\n",
       "      <td>Effective from 1 January 2013\\n\\nThis privacy ...</td>\n",
       "      <td>True</td>\n",
       "      <td>privacy &amp; cookies</td>\n",
       "      <td>0</td>\n",
       "      <td>cookie</td>\n",
       "    </tr>\n",
       "    <tr>\n",
       "      <th>5</th>\n",
       "      <td>5</td>\n",
       "      <td>### Privacy &amp; Cookie Policy\\n\\n## Our Commitme...</td>\n",
       "      <td>True</td>\n",
       "      <td>privacy &amp; cookies - new</td>\n",
       "      <td>0</td>\n",
       "      <td>cookie</td>\n",
       "    </tr>\n",
       "    <tr>\n",
       "      <th>6</th>\n",
       "      <td>6</td>\n",
       "      <td>The Nigerian Voice takes your privacy seriousl...</td>\n",
       "      <td>True</td>\n",
       "      <td>privacy &amp; cookies</td>\n",
       "      <td>0</td>\n",
       "      <td>cookie</td>\n",
       "    </tr>\n",
       "    <tr>\n",
       "      <th>7</th>\n",
       "      <td>7</td>\n",
       "      <td>###  What is a cookie?\\n\\nA cookie is small te...</td>\n",
       "      <td>False</td>\n",
       "      <td>cookies &amp; privacy</td>\n",
       "      <td>0</td>\n",
       "      <td>cookie</td>\n",
       "    </tr>\n",
       "    <tr>\n",
       "      <th>8</th>\n",
       "      <td>8</td>\n",
       "      <td>This page explains what information might be g...</td>\n",
       "      <td>True</td>\n",
       "      <td>privacy and cookies</td>\n",
       "      <td>0</td>\n",
       "      <td>cookie</td>\n",
       "    </tr>\n",
       "    <tr>\n",
       "      <th>9</th>\n",
       "      <td>9</td>\n",
       "      <td>## Cookies\\n\\nCookies are used on this site in...</td>\n",
       "      <td>False</td>\n",
       "      <td>privacy and cookies</td>\n",
       "      <td>0</td>\n",
       "      <td>cookie</td>\n",
       "    </tr>\n",
       "  </tbody>\n",
       "</table>\n",
       "</div>"
      ],
      "text/plain": [
       "   Unnamed: 0                                        policy_text  is_policy  \\\n",
       "0           0  ### Personal Information\\n\\nForbidden Planet L...       True   \n",
       "1           1  At Ericsson, we understand that privacy is an ...       True   \n",
       "2           2  ## Privacy policy\\n\\nNERC's website does not s...       True   \n",
       "3           3  This privacy and cookies policy only applies t...       True   \n",
       "4           4  Effective from 1 January 2013\\n\\nThis privacy ...       True   \n",
       "5           5  ### Privacy & Cookie Policy\\n\\n## Our Commitme...       True   \n",
       "6           6  The Nigerian Voice takes your privacy seriousl...       True   \n",
       "7           7  ###  What is a cookie?\\n\\nA cookie is small te...      False   \n",
       "8           8  This page explains what information might be g...       True   \n",
       "9           9  ## Cookies\\n\\nCookies are used on this site in...      False   \n",
       "\n",
       "                 link_text  exact_match matching_pattern  \n",
       "0        privacy & cookies            0           cookie  \n",
       "1        privacy (cookies)            0           cookie  \n",
       "2        privacy & cookies            0           cookie  \n",
       "3      privacy and cookies            0           cookie  \n",
       "4        privacy & cookies            0           cookie  \n",
       "5  privacy & cookies - new            0           cookie  \n",
       "6        privacy & cookies            0           cookie  \n",
       "7        cookies & privacy            0           cookie  \n",
       "8      privacy and cookies            0           cookie  \n",
       "9      privacy and cookies            0           cookie  "
      ]
     },
     "execution_count": 8,
     "metadata": {},
     "output_type": "execute_result"
    }
   ],
   "source": [
    "# Policy Detection Task\n",
    "\n",
    "data_csv_path = r\"C:\\Users\\Mohammad.Al-zoubi\\Documents\\projects\\privacy-glue\\data\\data\\policy_detection\\1301_dataset.csv\"\n",
    "df = pd.read_csv(data_csv_path)\n",
    "df.head(n=10)"
   ]
  },
  {
   "cell_type": "code",
   "execution_count": 9,
   "id": "750e9f8d",
   "metadata": {},
   "outputs": [
    {
     "data": {
      "text/plain": [
       "1301"
      ]
     },
     "execution_count": 9,
     "metadata": {},
     "output_type": "execute_result"
    }
   ],
   "source": [
    "len(df)"
   ]
  },
  {
   "cell_type": "code",
   "execution_count": null,
   "id": "c9b9aa9d",
   "metadata": {},
   "outputs": [],
   "source": [
    "# OPP-115 Task"
   ]
  }
 ],
 "metadata": {
  "kernelspec": {
   "display_name": "Python 3",
   "language": "python",
   "name": "python3"
  },
  "language_info": {
   "codemirror_mode": {
    "name": "ipython",
    "version": 3
   },
   "file_extension": ".py",
   "mimetype": "text/x-python",
   "name": "python",
   "nbconvert_exporter": "python",
   "pygments_lexer": "ipython3",
   "version": "3.8.12"
  }
 },
 "nbformat": 4,
 "nbformat_minor": 5
}
